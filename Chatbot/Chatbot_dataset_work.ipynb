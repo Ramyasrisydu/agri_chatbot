{
 "cells": [
  {
   "cell_type": "code",
   "execution_count": 1,
   "id": "a27bfb5b",
   "metadata": {},
   "outputs": [],
   "source": [
    "import numpy as np\n",
    "import pandas as pd\n",
    "import matplotlib.pyplot as plt\n",
    "import seaborn as sns"
   ]
  },
  {
   "cell_type": "code",
   "execution_count": 2,
   "id": "3c6ef185",
   "metadata": {},
   "outputs": [],
   "source": [
    "data=pd.read_csv(\"dummyData.csv\")"
   ]
  },
  {
   "cell_type": "code",
   "execution_count": 3,
   "id": "7013d766",
   "metadata": {},
   "outputs": [
    {
     "data": {
      "text/html": [
       "<div>\n",
       "<style scoped>\n",
       "    .dataframe tbody tr th:only-of-type {\n",
       "        vertical-align: middle;\n",
       "    }\n",
       "\n",
       "    .dataframe tbody tr th {\n",
       "        vertical-align: top;\n",
       "    }\n",
       "\n",
       "    .dataframe thead th {\n",
       "        text-align: right;\n",
       "    }\n",
       "</style>\n",
       "<table border=\"1\" class=\"dataframe\">\n",
       "  <thead>\n",
       "    <tr style=\"text-align: right;\">\n",
       "      <th></th>\n",
       "      <th>Unnamed: 0</th>\n",
       "      <th>Sector</th>\n",
       "      <th>Category</th>\n",
       "      <th>Crop</th>\n",
       "      <th>QueryType</th>\n",
       "      <th>QueryText</th>\n",
       "      <th>KccAns</th>\n",
       "      <th>StateName</th>\n",
       "      <th>DistrictName</th>\n",
       "      <th>CreatedOn</th>\n",
       "      <th>CreatedOnd</th>\n",
       "      <th>month</th>\n",
       "    </tr>\n",
       "  </thead>\n",
       "  <tbody>\n",
       "    <tr>\n",
       "      <th>0</th>\n",
       "      <td>0</td>\n",
       "      <td>agriculture</td>\n",
       "      <td>fiber crops</td>\n",
       "      <td>cotton kapas</td>\n",
       "      <td>3</td>\n",
       "      <td>control of white fly in cotton crop ?</td>\n",
       "      <td>spray to hosrathion @ 600 gm in 200 litres of ...</td>\n",
       "      <td>PUNJAB</td>\n",
       "      <td>AMRITSAR</td>\n",
       "      <td>2011-10-01T17:38:00</td>\n",
       "      <td>2011-10-01 17:38:00.000</td>\n",
       "      <td>10.0</td>\n",
       "    </tr>\n",
       "    <tr>\n",
       "      <th>1</th>\n",
       "      <td>1</td>\n",
       "      <td>horticulture</td>\n",
       "      <td>vegetables</td>\n",
       "      <td>1296</td>\n",
       "      <td>78</td>\n",
       "      <td>information regarding improved varieties of po...</td>\n",
       "      <td>IMPROVED VARIETIES OF POTATO :- KUFRI CHANDRAM...</td>\n",
       "      <td>PUNJAB</td>\n",
       "      <td>AMRITSAR</td>\n",
       "      <td>2011-10-01T20:52:00</td>\n",
       "      <td>2011-10-01 20:52:00.000</td>\n",
       "      <td>10.0</td>\n",
       "    </tr>\n",
       "  </tbody>\n",
       "</table>\n",
       "</div>"
      ],
      "text/plain": [
       "   Unnamed: 0        Sector     Category          Crop QueryType  \\\n",
       "0           0   agriculture  fiber crops  cotton kapas         3   \n",
       "1           1  horticulture   vegetables          1296        78   \n",
       "\n",
       "                                           QueryText  \\\n",
       "0              control of white fly in cotton crop ?   \n",
       "1  information regarding improved varieties of po...   \n",
       "\n",
       "                                              KccAns StateName DistrictName  \\\n",
       "0  spray to hosrathion @ 600 gm in 200 litres of ...    PUNJAB     AMRITSAR   \n",
       "1  IMPROVED VARIETIES OF POTATO :- KUFRI CHANDRAM...    PUNJAB     AMRITSAR   \n",
       "\n",
       "             CreatedOn               CreatedOnd  month  \n",
       "0  2011-10-01T17:38:00  2011-10-01 17:38:00.000   10.0  \n",
       "1  2011-10-01T20:52:00  2011-10-01 20:52:00.000   10.0  "
      ]
     },
     "execution_count": 3,
     "metadata": {},
     "output_type": "execute_result"
    }
   ],
   "source": [
    "data.head(2)"
   ]
  },
  {
   "cell_type": "code",
   "execution_count": 4,
   "id": "69517559",
   "metadata": {},
   "outputs": [
    {
     "data": {
      "text/plain": [
       "Unnamed: 0      0\n",
       "Sector          0\n",
       "Category        0\n",
       "Crop            0\n",
       "QueryType       0\n",
       "QueryText       0\n",
       "KccAns          0\n",
       "StateName       0\n",
       "DistrictName    0\n",
       "CreatedOn       0\n",
       "CreatedOnd      0\n",
       "month           0\n",
       "dtype: int64"
      ]
     },
     "execution_count": 4,
     "metadata": {},
     "output_type": "execute_result"
    }
   ],
   "source": [
    "data.isnull().sum()"
   ]
  },
  {
   "cell_type": "code",
   "execution_count": 5,
   "id": "5cf6e28d",
   "metadata": {},
   "outputs": [
    {
     "data": {
      "text/plain": [
       "Unnamed: 0      0\n",
       "Sector          0\n",
       "Category        0\n",
       "Crop            0\n",
       "QueryType       0\n",
       "QueryText       0\n",
       "KccAns          0\n",
       "StateName       0\n",
       "DistrictName    0\n",
       "CreatedOn       0\n",
       "CreatedOnd      0\n",
       "month           0\n",
       "dtype: int64"
      ]
     },
     "execution_count": 5,
     "metadata": {},
     "output_type": "execute_result"
    }
   ],
   "source": [
    "data.isna().sum()"
   ]
  },
  {
   "cell_type": "code",
   "execution_count": 6,
   "id": "a42f56e2",
   "metadata": {},
   "outputs": [
    {
     "data": {
      "text/plain": [
       "array(['agriculture', 'horticulture'], dtype=object)"
      ]
     },
     "execution_count": 6,
     "metadata": {},
     "output_type": "execute_result"
    }
   ],
   "source": [
    "data[\"Sector\"].unique()"
   ]
  },
  {
   "cell_type": "code",
   "execution_count": 7,
   "id": "c9b07bd5",
   "metadata": {},
   "outputs": [
    {
     "data": {
      "text/plain": [
       "array(['PUNJAB'], dtype=object)"
      ]
     },
     "execution_count": 7,
     "metadata": {},
     "output_type": "execute_result"
    }
   ],
   "source": [
    "data[\"StateName\"].unique()"
   ]
  },
  {
   "cell_type": "code",
   "execution_count": 8,
   "id": "77276d2d",
   "metadata": {},
   "outputs": [],
   "source": [
    "# As there is only one state drop the StateName Column"
   ]
  },
  {
   "cell_type": "code",
   "execution_count": 9,
   "id": "c407fff5",
   "metadata": {},
   "outputs": [],
   "source": [
    "data.drop(['StateName'],axis=1,inplace=True)"
   ]
  },
  {
   "cell_type": "code",
   "execution_count": 10,
   "id": "3196079e",
   "metadata": {},
   "outputs": [
    {
     "data": {
      "text/html": [
       "<div>\n",
       "<style scoped>\n",
       "    .dataframe tbody tr th:only-of-type {\n",
       "        vertical-align: middle;\n",
       "    }\n",
       "\n",
       "    .dataframe tbody tr th {\n",
       "        vertical-align: top;\n",
       "    }\n",
       "\n",
       "    .dataframe thead th {\n",
       "        text-align: right;\n",
       "    }\n",
       "</style>\n",
       "<table border=\"1\" class=\"dataframe\">\n",
       "  <thead>\n",
       "    <tr style=\"text-align: right;\">\n",
       "      <th></th>\n",
       "      <th>Unnamed: 0</th>\n",
       "      <th>Sector</th>\n",
       "      <th>Category</th>\n",
       "      <th>Crop</th>\n",
       "      <th>QueryType</th>\n",
       "      <th>QueryText</th>\n",
       "      <th>KccAns</th>\n",
       "      <th>DistrictName</th>\n",
       "      <th>CreatedOn</th>\n",
       "      <th>CreatedOnd</th>\n",
       "      <th>month</th>\n",
       "    </tr>\n",
       "  </thead>\n",
       "  <tbody>\n",
       "    <tr>\n",
       "      <th>0</th>\n",
       "      <td>0</td>\n",
       "      <td>agriculture</td>\n",
       "      <td>fiber crops</td>\n",
       "      <td>cotton kapas</td>\n",
       "      <td>3</td>\n",
       "      <td>control of white fly in cotton crop ?</td>\n",
       "      <td>spray to hosrathion @ 600 gm in 200 litres of ...</td>\n",
       "      <td>AMRITSAR</td>\n",
       "      <td>2011-10-01T17:38:00</td>\n",
       "      <td>2011-10-01 17:38:00.000</td>\n",
       "      <td>10.0</td>\n",
       "    </tr>\n",
       "    <tr>\n",
       "      <th>1</th>\n",
       "      <td>1</td>\n",
       "      <td>horticulture</td>\n",
       "      <td>vegetables</td>\n",
       "      <td>1296</td>\n",
       "      <td>78</td>\n",
       "      <td>information regarding improved varieties of po...</td>\n",
       "      <td>IMPROVED VARIETIES OF POTATO :- KUFRI CHANDRAM...</td>\n",
       "      <td>AMRITSAR</td>\n",
       "      <td>2011-10-01T20:52:00</td>\n",
       "      <td>2011-10-01 20:52:00.000</td>\n",
       "      <td>10.0</td>\n",
       "    </tr>\n",
       "    <tr>\n",
       "      <th>2</th>\n",
       "      <td>2</td>\n",
       "      <td>agriculture</td>\n",
       "      <td>cereals</td>\n",
       "      <td>1137</td>\n",
       "      <td>2</td>\n",
       "      <td>how to control kernel bunt in rice crop?</td>\n",
       "      <td>spray tilt 25ec @ 200ml in 200 liters water pe...</td>\n",
       "      <td>AMRITSAR</td>\n",
       "      <td>2011-10-02T10:10:00</td>\n",
       "      <td>2011-10-02 10:10:00.000</td>\n",
       "      <td>10.0</td>\n",
       "    </tr>\n",
       "  </tbody>\n",
       "</table>\n",
       "</div>"
      ],
      "text/plain": [
       "   Unnamed: 0        Sector     Category          Crop QueryType  \\\n",
       "0           0   agriculture  fiber crops  cotton kapas         3   \n",
       "1           1  horticulture   vegetables          1296        78   \n",
       "2           2   agriculture      cereals          1137         2   \n",
       "\n",
       "                                           QueryText  \\\n",
       "0              control of white fly in cotton crop ?   \n",
       "1  information regarding improved varieties of po...   \n",
       "2           how to control kernel bunt in rice crop?   \n",
       "\n",
       "                                              KccAns DistrictName  \\\n",
       "0  spray to hosrathion @ 600 gm in 200 litres of ...     AMRITSAR   \n",
       "1  IMPROVED VARIETIES OF POTATO :- KUFRI CHANDRAM...     AMRITSAR   \n",
       "2  spray tilt 25ec @ 200ml in 200 liters water pe...     AMRITSAR   \n",
       "\n",
       "             CreatedOn               CreatedOnd  month  \n",
       "0  2011-10-01T17:38:00  2011-10-01 17:38:00.000   10.0  \n",
       "1  2011-10-01T20:52:00  2011-10-01 20:52:00.000   10.0  \n",
       "2  2011-10-02T10:10:00  2011-10-02 10:10:00.000   10.0  "
      ]
     },
     "execution_count": 10,
     "metadata": {},
     "output_type": "execute_result"
    }
   ],
   "source": [
    "data.head(3)"
   ]
  },
  {
   "cell_type": "code",
   "execution_count": 11,
   "id": "d5a260a0",
   "metadata": {},
   "outputs": [
    {
     "data": {
      "text/plain": [
       "array(['cotton kapas', '1296', '1137', 'african sarson', 'wheat', '1285',\n",
       "       '959', '1280', 'pea vegetable', '2108', 'oats', '1075', '1324',\n",
       "       '1289', 'indian rapeseed and mustard yellow sarson', 'onion',\n",
       "       'guava', 'fingermillet ragimandika', 'others', 'sunnhemp patua',\n",
       "       '1287', 'tomato', 'carrot', '1576', '8101', 'black gram urd bean',\n",
       "       'peas field peas garden peasmatar', 'radish', '1037',\n",
       "       'cauliflower', '8108', '1279', '1275',\n",
       "       'moth bean kidney bean deww gram', 'citrus', 'paddy dhan',\n",
       "       'barseem', '1', 'potato', 'brown sarson', 'coriander',\n",
       "       'spinach palak', 'maize makka', 'sugarcane noble cane', 'other',\n",
       "       'chillies', 'orange', 'brinjal', 'raya indian mustard',\n",
       "       'bhindiokraladysfinger', 'mustard', 'poplar',\n",
       "       'bengal gram gramchick peakabulichana', 'cucumber', 'lentil masur',\n",
       "       'banana', 'turmeric', 'turnip saljam', 'arum', 'aonla',\n",
       "       'fodder maize', 'garden pea', 'papaya', 'fodder sorghum',\n",
       "       'pigeon pea red gramarhartur', 'toria', 'mosambi', 'rose', 'mango',\n",
       "       'capsicum', 'rajmash bean', 'winged bean', 'garlic', 'cabbage',\n",
       "       'mushroom', '0', 'bitter gourd', 'marigold', 'fenugreek',\n",
       "       'leafy vegetable', 'pumpkin', 'pomegranate', 'ryegrass',\n",
       "       'rocket salad taramira', 'beet root garden beetstock beet',\n",
       "       'kiwi fruit', 'arecanut', 'soybean bhat', 'bottle gourd',\n",
       "       'acid lime', '2103', 'sunflower suryamukhi', '1268',\n",
       "       'green gram moong bean moong', '1064', '2114', 'sagoan',\n",
       "       'methi fenugreek', 'triticale', 'eculeptous', 'spine gourd',\n",
       "       'sugar beet', 'rajma french bean',\n",
       "       'summer squash vegetable marrow', 'ber', 'cowpea vegetable',\n",
       "       'litchi', 'linseed alsi', 'faba bean horse beanwindsor bean',\n",
       "       'ash gourd petha', 'saffron', '2113', '1282', 'sweet potato',\n",
       "       '2119', 'drum stick', 'barley jau', 'white clover shaftal',\n",
       "       'indian squash tindaround melon', 'chapan kaddu', 'peach', 'lobia',\n",
       "       'groundnut pea nutmung phalli', 'guar', 'gerbera', 'sponge gourd',\n",
       "       'beekeeping', 'ridge gourd', 'strawberry', 'french bean',\n",
       "       'lettuce', 'beans', '1273', 'koronda', '7557',\n",
       "       'italian millet thenainavanefoxtail milletkang', 'celery',\n",
       "       'mochai lablab', 'grape', 'broccoli', 'bell pepper', '8133',\n",
       "       '7153', '8160', 'lemon', '8196', '8242', '8183', '8392',\n",
       "       'bush squash', 'pear', 'yard long bean', 'sapota', 'watermelon',\n",
       "       'snap melon', '1136', 'dhaincha', '8360', '8489', '8469', '8523',\n",
       "       '8547', '8641', '8256', '8618', '7151', '8703', 'teosinte', '7150',\n",
       "       '7212', 'ginger', 'kolanchitephrosia purpurea',\n",
       "       'bajra napier hybrid', 'sorghum jowargreat millet',\n",
       "       'ribbed gourd kali tori', 'napier grass', 'safflower kusumkardi',\n",
       "       'mint', 'coconut', '1066', '2051', '7530', '8687', 'anjan grass',\n",
       "       '7239', 'pearl millet bajrabulrush milletspiked millet',\n",
       "       'sandal wood', 'cinnamon', 'jamun', 'apple', 'guinea grass',\n",
       "       'chestnut', 'lucerne alfalfa', 'sesame gingellytilsesamum', 'plum',\n",
       "       'mentha', 'oil palm', '8042', '7519', '1581', 'babool', '1325',\n",
       "       'curry leaf', 'sudan grass', 'buck wheat kaspat', 'loquat',\n",
       "       'amarphophallus surankandelephant foot yam',\n",
       "       'castor rehri rendi arandi', 'bail', 'horse gram kulthikultha',\n",
       "       'cluster bean', 'cardamom', 'mulberry', 'gladiolus', 'neem',\n",
       "       'cumin', 'lilliums', '8140', '8151', 'opium popy', '8490', '7148',\n",
       "       '8615', '8713', '2053', '7191', '7235', 'musk melon', 'aloe vera',\n",
       "       'chinese cabbage', '8107', 'hazlenut', '8103', 'greater yam',\n",
       "       'chrysanthemum', '1818', 'tea', 'datepalm', 'pineapple',\n",
       "       'long melon', 'safed musli', '1808', 'stevia', 'anthurium',\n",
       "       'sen grass', 'gobhi sarson', 'indian bean vegetable',\n",
       "       'colocasia arvi arbi', '8235', '8218', '8492', '8513', '8525',\n",
       "       '7160', '8583', '8632', '8656', '8697', '8733', '8772',\n",
       "       'snake gourd', 'butter pea vegetable', 'passion fruit',\n",
       "       'dinanath grass', 'broad bean', 'lethyrus', 'rajka bajri', 'kaner',\n",
       "       'teak', '8112', 'lehberry', 'dolichos bean',\n",
       "       'barnyard millet kundiraivllisawan', 'jute', 'custard apple',\n",
       "       'senji', '1294', 'carnation', 'tumba',\n",
       "       'common millet panivaraguchenaproso millethogm', 'zentedeschia',\n",
       "       'jasmine', 'chinar tree', 'tulsi', 'pointed gourd', '8293', '8136',\n",
       "       'almond', '7161', '8310', '8527', 'olive', 'ricebean',\n",
       "       'betel vine', '8712', 'jatropha ratanjot', 'baby corn', 'clove',\n",
       "       'jack fruit', 'amaranthusgrain amaranthus', 'niger ramtil',\n",
       "       'lab lab', 'kokum', '8139', 'persian clover', '8737',\n",
       "       'tapioca cassava', '2767', 'satawar', 'tuberose', '8483', '8554',\n",
       "       '8105', '8672', 'avacado', 'mesta', 'sal wood', 'palmyra', '7524',\n",
       "       '2054', 'fennel', 'setaria grass', '8252', 'pecan nut', '8393',\n",
       "       '8701', 'kundru', '7159', '7905', 'runner bean', '8128', '8245',\n",
       "       '8222', '8579', 'melon', 'fig', 'pepper', '8197', '8164', '7528',\n",
       "       '8281', '8359', '8781', 'crossandra', 'honey plant', '8569',\n",
       "       '8529', '8621', 'jojoba', 'sweet cherry', '8297', '8216', '8628',\n",
       "       '8646', '8721', '8694', 'smooth guard',\n",
       "       'khesari chickling vetch grass pea', '8600', '8700', 'apricot',\n",
       "       'china astor', 'bay leaf', 'knolkhol', '8391', '8710', 'tobacco',\n",
       "       'roselle mesta', '8619', '8747', 'stylosanthes'], dtype=object)"
      ]
     },
     "execution_count": 11,
     "metadata": {},
     "output_type": "execute_result"
    }
   ],
   "source": [
    "data['Crop'].unique()"
   ]
  },
  {
   "cell_type": "code",
   "execution_count": 12,
   "id": "a86f1c26",
   "metadata": {},
   "outputs": [],
   "source": [
    "#Drop the row where we find crop name that are  integers as crop names will not be integers"
   ]
  },
  {
   "cell_type": "code",
   "execution_count": 13,
   "id": "dba09f98",
   "metadata": {},
   "outputs": [],
   "source": [
    "s=data[data[\"Crop\"].apply(lambda x: x.isnumeric())]"
   ]
  },
  {
   "cell_type": "code",
   "execution_count": 14,
   "id": "e8728c89",
   "metadata": {},
   "outputs": [],
   "source": [
    "l=s['Crop'].index"
   ]
  },
  {
   "cell_type": "code",
   "execution_count": 15,
   "id": "9abbdb8a",
   "metadata": {},
   "outputs": [],
   "source": [
    "data.drop(l, inplace=True)"
   ]
  },
  {
   "cell_type": "code",
   "execution_count": 16,
   "id": "04aee4be",
   "metadata": {},
   "outputs": [
    {
     "data": {
      "text/plain": [
       "array(['cotton kapas', 'african sarson', 'wheat', 'pea vegetable', 'oats',\n",
       "       'indian rapeseed and mustard yellow sarson', 'onion', 'guava',\n",
       "       'fingermillet ragimandika', 'others', 'sunnhemp patua', 'tomato',\n",
       "       'carrot', 'black gram urd bean',\n",
       "       'peas field peas garden peasmatar', 'radish', 'cauliflower',\n",
       "       'moth bean kidney bean deww gram', 'citrus', 'paddy dhan',\n",
       "       'barseem', 'potato', 'brown sarson', 'coriander', 'spinach palak',\n",
       "       'maize makka', 'sugarcane noble cane', 'other', 'chillies',\n",
       "       'orange', 'brinjal', 'raya indian mustard',\n",
       "       'bhindiokraladysfinger', 'mustard', 'poplar',\n",
       "       'bengal gram gramchick peakabulichana', 'cucumber', 'lentil masur',\n",
       "       'banana', 'turmeric', 'turnip saljam', 'arum', 'aonla',\n",
       "       'fodder maize', 'garden pea', 'papaya', 'fodder sorghum',\n",
       "       'pigeon pea red gramarhartur', 'toria', 'mosambi', 'rose', 'mango',\n",
       "       'capsicum', 'rajmash bean', 'winged bean', 'garlic', 'cabbage',\n",
       "       'mushroom', 'bitter gourd', 'marigold', 'fenugreek',\n",
       "       'leafy vegetable', 'pumpkin', 'pomegranate', 'ryegrass',\n",
       "       'rocket salad taramira', 'beet root garden beetstock beet',\n",
       "       'kiwi fruit', 'arecanut', 'soybean bhat', 'bottle gourd',\n",
       "       'acid lime', 'sunflower suryamukhi', 'green gram moong bean moong',\n",
       "       'sagoan', 'methi fenugreek', 'triticale', 'eculeptous',\n",
       "       'spine gourd', 'sugar beet', 'rajma french bean',\n",
       "       'summer squash vegetable marrow', 'ber', 'cowpea vegetable',\n",
       "       'litchi', 'linseed alsi', 'faba bean horse beanwindsor bean',\n",
       "       'ash gourd petha', 'saffron', 'sweet potato', 'drum stick',\n",
       "       'barley jau', 'white clover shaftal',\n",
       "       'indian squash tindaround melon', 'chapan kaddu', 'peach', 'lobia',\n",
       "       'groundnut pea nutmung phalli', 'guar', 'gerbera', 'sponge gourd',\n",
       "       'beekeeping', 'ridge gourd', 'strawberry', 'french bean',\n",
       "       'lettuce', 'beans', 'koronda',\n",
       "       'italian millet thenainavanefoxtail milletkang', 'celery',\n",
       "       'mochai lablab', 'grape', 'broccoli', 'bell pepper', 'lemon',\n",
       "       'bush squash', 'pear', 'yard long bean', 'sapota', 'watermelon',\n",
       "       'snap melon', 'dhaincha', 'teosinte', 'ginger',\n",
       "       'kolanchitephrosia purpurea', 'bajra napier hybrid',\n",
       "       'sorghum jowargreat millet', 'ribbed gourd kali tori',\n",
       "       'napier grass', 'safflower kusumkardi', 'mint', 'coconut',\n",
       "       'anjan grass', 'pearl millet bajrabulrush milletspiked millet',\n",
       "       'sandal wood', 'cinnamon', 'jamun', 'apple', 'guinea grass',\n",
       "       'chestnut', 'lucerne alfalfa', 'sesame gingellytilsesamum', 'plum',\n",
       "       'mentha', 'oil palm', 'babool', 'curry leaf', 'sudan grass',\n",
       "       'buck wheat kaspat', 'loquat',\n",
       "       'amarphophallus surankandelephant foot yam',\n",
       "       'castor rehri rendi arandi', 'bail', 'horse gram kulthikultha',\n",
       "       'cluster bean', 'cardamom', 'mulberry', 'gladiolus', 'neem',\n",
       "       'cumin', 'lilliums', 'opium popy', 'musk melon', 'aloe vera',\n",
       "       'chinese cabbage', 'hazlenut', 'greater yam', 'chrysanthemum',\n",
       "       'tea', 'datepalm', 'pineapple', 'long melon', 'safed musli',\n",
       "       'stevia', 'anthurium', 'sen grass', 'gobhi sarson',\n",
       "       'indian bean vegetable', 'colocasia arvi arbi', 'snake gourd',\n",
       "       'butter pea vegetable', 'passion fruit', 'dinanath grass',\n",
       "       'broad bean', 'lethyrus', 'rajka bajri', 'kaner', 'teak',\n",
       "       'lehberry', 'dolichos bean', 'barnyard millet kundiraivllisawan',\n",
       "       'jute', 'custard apple', 'senji', 'carnation', 'tumba',\n",
       "       'common millet panivaraguchenaproso millethogm', 'zentedeschia',\n",
       "       'jasmine', 'chinar tree', 'tulsi', 'pointed gourd', 'almond',\n",
       "       'olive', 'ricebean', 'betel vine', 'jatropha ratanjot',\n",
       "       'baby corn', 'clove', 'jack fruit', 'amaranthusgrain amaranthus',\n",
       "       'niger ramtil', 'lab lab', 'kokum', 'persian clover',\n",
       "       'tapioca cassava', 'satawar', 'tuberose', 'avacado', 'mesta',\n",
       "       'sal wood', 'palmyra', 'fennel', 'setaria grass', 'pecan nut',\n",
       "       'kundru', 'runner bean', 'melon', 'fig', 'pepper', 'crossandra',\n",
       "       'honey plant', 'jojoba', 'sweet cherry', 'smooth guard',\n",
       "       'khesari chickling vetch grass pea', 'apricot', 'china astor',\n",
       "       'bay leaf', 'knolkhol', 'tobacco', 'roselle mesta', 'stylosanthes'],\n",
       "      dtype=object)"
      ]
     },
     "execution_count": 16,
     "metadata": {},
     "output_type": "execute_result"
    }
   ],
   "source": [
    "data[\"Crop\"].unique()"
   ]
  },
  {
   "cell_type": "code",
   "execution_count": 17,
   "id": "618da018",
   "metadata": {},
   "outputs": [
    {
     "data": {
      "text/plain": [
       "(80566, 11)"
      ]
     },
     "execution_count": 17,
     "metadata": {},
     "output_type": "execute_result"
    }
   ],
   "source": [
    "data.shape"
   ]
  },
  {
   "cell_type": "code",
   "execution_count": 18,
   "id": "18cbbcbf",
   "metadata": {},
   "outputs": [
    {
     "data": {
      "text/plain": [
       "0        False\n",
       "3        False\n",
       "4        False\n",
       "9        False\n",
       "11       False\n",
       "         ...  \n",
       "90550    False\n",
       "90551    False\n",
       "90552    False\n",
       "90553    False\n",
       "90554    False\n",
       "Length: 80566, dtype: bool"
      ]
     },
     "execution_count": 18,
     "metadata": {},
     "output_type": "execute_result"
    }
   ],
   "source": [
    "data.duplicated(subset=None,keep='first')"
   ]
  },
  {
   "cell_type": "code",
   "execution_count": 19,
   "id": "e1ae9c81",
   "metadata": {},
   "outputs": [
    {
     "data": {
      "text/html": [
       "<div>\n",
       "<style scoped>\n",
       "    .dataframe tbody tr th:only-of-type {\n",
       "        vertical-align: middle;\n",
       "    }\n",
       "\n",
       "    .dataframe tbody tr th {\n",
       "        vertical-align: top;\n",
       "    }\n",
       "\n",
       "    .dataframe thead th {\n",
       "        text-align: right;\n",
       "    }\n",
       "</style>\n",
       "<table border=\"1\" class=\"dataframe\">\n",
       "  <thead>\n",
       "    <tr style=\"text-align: right;\">\n",
       "      <th></th>\n",
       "      <th>Unnamed: 0</th>\n",
       "      <th>Sector</th>\n",
       "      <th>Category</th>\n",
       "      <th>Crop</th>\n",
       "      <th>QueryType</th>\n",
       "      <th>QueryText</th>\n",
       "      <th>KccAns</th>\n",
       "      <th>DistrictName</th>\n",
       "      <th>CreatedOn</th>\n",
       "      <th>CreatedOnd</th>\n",
       "      <th>month</th>\n",
       "    </tr>\n",
       "  </thead>\n",
       "  <tbody>\n",
       "    <tr>\n",
       "      <th>0</th>\n",
       "      <td>0</td>\n",
       "      <td>agriculture</td>\n",
       "      <td>fiber crops</td>\n",
       "      <td>cotton kapas</td>\n",
       "      <td>3</td>\n",
       "      <td>control of white fly in cotton crop ?</td>\n",
       "      <td>spray to hosrathion @ 600 gm in 200 litres of ...</td>\n",
       "      <td>AMRITSAR</td>\n",
       "      <td>2011-10-01T17:38:00</td>\n",
       "      <td>2011-10-01 17:38:00.000</td>\n",
       "      <td>10.0</td>\n",
       "    </tr>\n",
       "    <tr>\n",
       "      <th>3</th>\n",
       "      <td>3</td>\n",
       "      <td>agriculture</td>\n",
       "      <td>fodder crops</td>\n",
       "      <td>african sarson</td>\n",
       "      <td>5</td>\n",
       "      <td>varieties of berseem ?</td>\n",
       "      <td>BL 42,BL 10,BL 1.</td>\n",
       "      <td>AMRITSAR</td>\n",
       "      <td>2011-10-02T20:55:00</td>\n",
       "      <td>2011-10-02 20:55:00.000</td>\n",
       "      <td>10.0</td>\n",
       "    </tr>\n",
       "    <tr>\n",
       "      <th>4</th>\n",
       "      <td>4</td>\n",
       "      <td>agriculture</td>\n",
       "      <td>cereals</td>\n",
       "      <td>wheat</td>\n",
       "      <td>5</td>\n",
       "      <td>information regarding improved varieties of wh...</td>\n",
       "      <td>VARIETIES OF WHEAT CROP:- HD 2967,PBW 621,DBW ...</td>\n",
       "      <td>AMRITSAR</td>\n",
       "      <td>2011-10-03T08:49:00</td>\n",
       "      <td>2011-10-03 08:49:00.000</td>\n",
       "      <td>10.0</td>\n",
       "    </tr>\n",
       "  </tbody>\n",
       "</table>\n",
       "</div>"
      ],
      "text/plain": [
       "   Unnamed: 0       Sector      Category            Crop QueryType  \\\n",
       "0           0  agriculture   fiber crops    cotton kapas         3   \n",
       "3           3  agriculture  fodder crops  african sarson         5   \n",
       "4           4  agriculture       cereals           wheat         5   \n",
       "\n",
       "                                           QueryText  \\\n",
       "0              control of white fly in cotton crop ?   \n",
       "3                             varieties of berseem ?   \n",
       "4  information regarding improved varieties of wh...   \n",
       "\n",
       "                                              KccAns DistrictName  \\\n",
       "0  spray to hosrathion @ 600 gm in 200 litres of ...     AMRITSAR   \n",
       "3                                  BL 42,BL 10,BL 1.     AMRITSAR   \n",
       "4  VARIETIES OF WHEAT CROP:- HD 2967,PBW 621,DBW ...     AMRITSAR   \n",
       "\n",
       "             CreatedOn               CreatedOnd  month  \n",
       "0  2011-10-01T17:38:00  2011-10-01 17:38:00.000   10.0  \n",
       "3  2011-10-02T20:55:00  2011-10-02 20:55:00.000   10.0  \n",
       "4  2011-10-03T08:49:00  2011-10-03 08:49:00.000   10.0  "
      ]
     },
     "execution_count": 19,
     "metadata": {},
     "output_type": "execute_result"
    }
   ],
   "source": [
    "data.head(3)"
   ]
  },
  {
   "cell_type": "code",
   "execution_count": 20,
   "id": "91df926e",
   "metadata": {},
   "outputs": [
    {
     "data": {
      "text/plain": [
       "agriculture     55836\n",
       "horticulture    24730\n",
       "Name: Sector, dtype: int64"
      ]
     },
     "execution_count": 20,
     "metadata": {},
     "output_type": "execute_result"
    }
   ],
   "source": [
    "data['Sector'].value_counts()"
   ]
  },
  {
   "cell_type": "code",
   "execution_count": 21,
   "id": "8d287206",
   "metadata": {},
   "outputs": [
    {
     "data": {
      "image/png": "[encoded data removed]",
      "text/plain": [
       "<Figure size 432x432 with 1 Axes>"
      ]
     },
     "metadata": {
      "needs_background": "light"
     },
     "output_type": "display_data"
    }
   ],
   "source": [
    "plt.figure(figsize=(6,6))\n",
    "sns.countplot(x=\"Sector\", data=data)\n",
    "plt.title(\"Sector Distribution\")\n",
    "plt.show()"
   ]
  },
  {
   "cell_type": "code",
   "execution_count": 22,
   "id": "9b9d8430",
   "metadata": {},
   "outputs": [
    {
     "data": {
      "text/plain": [
       "Index(['Unnamed: 0', 'Sector', 'Category', 'Crop', 'QueryType', 'QueryText',\n",
       "       'KccAns', 'DistrictName', 'CreatedOn', 'CreatedOnd', 'month'],\n",
       "      dtype='object')"
      ]
     },
     "execution_count": 22,
     "metadata": {},
     "output_type": "execute_result"
    }
   ],
   "source": [
    "data.columns"
   ]
  },
  {
   "cell_type": "code",
   "execution_count": 23,
   "id": "58334414",
   "metadata": {},
   "outputs": [
    {
     "data": {
      "text/plain": [
       "paddy dhan           16198\n",
       "wheat                10187\n",
       "others                9154\n",
       "cotton kapas          5175\n",
       "citrus                2053\n",
       "                     ...  \n",
       "lilliums                 1\n",
       "buck wheat kaspat        1\n",
       "sudan grass              1\n",
       "arecanut                 1\n",
       "stylosanthes             1\n",
       "Name: Crop, Length: 243, dtype: int64"
      ]
     },
     "execution_count": 23,
     "metadata": {},
     "output_type": "execute_result"
    }
   ],
   "source": [
    "data[\"Crop\"].value_counts()"
   ]
  },
  {
   "cell_type": "code",
   "execution_count": 24,
   "id": "77f5823c",
   "metadata": {},
   "outputs": [
    {
     "data": {
      "text/html": [
       "<div>\n",
       "<style scoped>\n",
       "    .dataframe tbody tr th:only-of-type {\n",
       "        vertical-align: middle;\n",
       "    }\n",
       "\n",
       "    .dataframe tbody tr th {\n",
       "        vertical-align: top;\n",
       "    }\n",
       "\n",
       "    .dataframe thead th {\n",
       "        text-align: right;\n",
       "    }\n",
       "</style>\n",
       "<table border=\"1\" class=\"dataframe\">\n",
       "  <thead>\n",
       "    <tr style=\"text-align: right;\">\n",
       "      <th></th>\n",
       "      <th>Unnamed: 0</th>\n",
       "      <th>Sector</th>\n",
       "      <th>Category</th>\n",
       "      <th>Crop</th>\n",
       "      <th>QueryType</th>\n",
       "      <th>QueryText</th>\n",
       "      <th>KccAns</th>\n",
       "      <th>DistrictName</th>\n",
       "      <th>CreatedOn</th>\n",
       "      <th>CreatedOnd</th>\n",
       "      <th>month</th>\n",
       "    </tr>\n",
       "  </thead>\n",
       "  <tbody>\n",
       "    <tr>\n",
       "      <th>0</th>\n",
       "      <td>0</td>\n",
       "      <td>agriculture</td>\n",
       "      <td>fiber crops</td>\n",
       "      <td>cotton kapas</td>\n",
       "      <td>3</td>\n",
       "      <td>control of white fly in cotton crop ?</td>\n",
       "      <td>spray to hosrathion @ 600 gm in 200 litres of ...</td>\n",
       "      <td>AMRITSAR</td>\n",
       "      <td>2011-10-01T17:38:00</td>\n",
       "      <td>2011-10-01 17:38:00.000</td>\n",
       "      <td>10.0</td>\n",
       "    </tr>\n",
       "    <tr>\n",
       "      <th>3</th>\n",
       "      <td>3</td>\n",
       "      <td>agriculture</td>\n",
       "      <td>fodder crops</td>\n",
       "      <td>african sarson</td>\n",
       "      <td>5</td>\n",
       "      <td>varieties of berseem ?</td>\n",
       "      <td>BL 42,BL 10,BL 1.</td>\n",
       "      <td>AMRITSAR</td>\n",
       "      <td>2011-10-02T20:55:00</td>\n",
       "      <td>2011-10-02 20:55:00.000</td>\n",
       "      <td>10.0</td>\n",
       "    </tr>\n",
       "    <tr>\n",
       "      <th>4</th>\n",
       "      <td>4</td>\n",
       "      <td>agriculture</td>\n",
       "      <td>cereals</td>\n",
       "      <td>wheat</td>\n",
       "      <td>5</td>\n",
       "      <td>information regarding improved varieties of wh...</td>\n",
       "      <td>VARIETIES OF WHEAT CROP:- HD 2967,PBW 621,DBW ...</td>\n",
       "      <td>AMRITSAR</td>\n",
       "      <td>2011-10-03T08:49:00</td>\n",
       "      <td>2011-10-03 08:49:00.000</td>\n",
       "      <td>10.0</td>\n",
       "    </tr>\n",
       "    <tr>\n",
       "      <th>9</th>\n",
       "      <td>11</td>\n",
       "      <td>agriculture</td>\n",
       "      <td>cereals</td>\n",
       "      <td>wheat</td>\n",
       "      <td>1</td>\n",
       "      <td>information regarding sowing time of wheat?</td>\n",
       "      <td>SOWING TIME OF WHEAT:-LAST WEEK OF OCT TO LAST...</td>\n",
       "      <td>AMRITSAR</td>\n",
       "      <td>2011-10-05T14:04:00</td>\n",
       "      <td>2011-10-05 14:04:00.000</td>\n",
       "      <td>10.0</td>\n",
       "    </tr>\n",
       "    <tr>\n",
       "      <th>11</th>\n",
       "      <td>16</td>\n",
       "      <td>agriculture</td>\n",
       "      <td>cereals</td>\n",
       "      <td>wheat</td>\n",
       "      <td>5</td>\n",
       "      <td>new varieties of wheat?</td>\n",
       "      <td>HD-2967,PBW-621.</td>\n",
       "      <td>AMRITSAR</td>\n",
       "      <td>2011-10-06T08:05:00</td>\n",
       "      <td>2011-10-06 08:05:00.000</td>\n",
       "      <td>10.0</td>\n",
       "    </tr>\n",
       "    <tr>\n",
       "      <th>...</th>\n",
       "      <td>...</td>\n",
       "      <td>...</td>\n",
       "      <td>...</td>\n",
       "      <td>...</td>\n",
       "      <td>...</td>\n",
       "      <td>...</td>\n",
       "      <td>...</td>\n",
       "      <td>...</td>\n",
       "      <td>...</td>\n",
       "      <td>...</td>\n",
       "      <td>...</td>\n",
       "    </tr>\n",
       "    <tr>\n",
       "      <th>167</th>\n",
       "      <td>315</td>\n",
       "      <td>agriculture</td>\n",
       "      <td>fiber crops</td>\n",
       "      <td>cotton kapas</td>\n",
       "      <td>6</td>\n",
       "      <td>infromation regarding msp of cotton?</td>\n",
       "      <td>for medium staple is 3600 and for long staple ...</td>\n",
       "      <td>AMRITSAR</td>\n",
       "      <td>2012-10-19T12:03:00</td>\n",
       "      <td>2012-10-19 12:03:00.000</td>\n",
       "      <td>10.0</td>\n",
       "    </tr>\n",
       "    <tr>\n",
       "      <th>168</th>\n",
       "      <td>316</td>\n",
       "      <td>agriculture</td>\n",
       "      <td>cereals</td>\n",
       "      <td>wheat</td>\n",
       "      <td>5</td>\n",
       "      <td>early sowing varities of wheat?</td>\n",
       "      <td>pbw621,pbw550,hd2967.</td>\n",
       "      <td>AMRITSAR</td>\n",
       "      <td>2012-10-19T14:34:00</td>\n",
       "      <td>2012-10-19 14:34:00.000</td>\n",
       "      <td>10.0</td>\n",
       "    </tr>\n",
       "    <tr>\n",
       "      <th>169</th>\n",
       "      <td>318</td>\n",
       "      <td>horticulture</td>\n",
       "      <td>vegetables</td>\n",
       "      <td>radish</td>\n",
       "      <td>74</td>\n",
       "      <td>sowing time of raddish?</td>\n",
       "      <td>upto mid nov .</td>\n",
       "      <td>AMRITSAR</td>\n",
       "      <td>2012-10-19T14:49:00</td>\n",
       "      <td>2012-10-19 14:49:00.000</td>\n",
       "      <td>10.0</td>\n",
       "    </tr>\n",
       "    <tr>\n",
       "      <th>170</th>\n",
       "      <td>319</td>\n",
       "      <td>agriculture</td>\n",
       "      <td>cereals</td>\n",
       "      <td>wheat</td>\n",
       "      <td>0</td>\n",
       "      <td>information regarding to the dose of fertilize...</td>\n",
       "      <td>THE DOSE OF FETILIZER IN THE WHEAT-: UREA 110 ...</td>\n",
       "      <td>AMRITSAR</td>\n",
       "      <td>2012-10-19T17:11:00</td>\n",
       "      <td>2012-10-19 17:11:00.000</td>\n",
       "      <td>10.0</td>\n",
       "    </tr>\n",
       "    <tr>\n",
       "      <th>171</th>\n",
       "      <td>320</td>\n",
       "      <td>horticulture</td>\n",
       "      <td>vegetables</td>\n",
       "      <td>pea vegetable</td>\n",
       "      <td>0</td>\n",
       "      <td>#      information regarding to the improved v...</td>\n",
       "      <td>A:     IMPROVED VARIETIES OF PEA -:[EARLY MATU...</td>\n",
       "      <td>AMRITSAR</td>\n",
       "      <td>2012-10-19T18:48:00</td>\n",
       "      <td>2012-10-19 18:48:00.000</td>\n",
       "      <td>10.0</td>\n",
       "    </tr>\n",
       "  </tbody>\n",
       "</table>\n",
       "<p>100 rows × 11 columns</p>\n",
       "</div>"
      ],
      "text/plain": [
       "     Unnamed: 0        Sector      Category            Crop QueryType  \\\n",
       "0             0   agriculture   fiber crops    cotton kapas         3   \n",
       "3             3   agriculture  fodder crops  african sarson         5   \n",
       "4             4   agriculture       cereals           wheat         5   \n",
       "9            11   agriculture       cereals           wheat         1   \n",
       "11           16   agriculture       cereals           wheat         5   \n",
       "..          ...           ...           ...             ...       ...   \n",
       "167         315   agriculture   fiber crops    cotton kapas         6   \n",
       "168         316   agriculture       cereals           wheat         5   \n",
       "169         318  horticulture    vegetables          radish        74   \n",
       "170         319   agriculture       cereals           wheat         0   \n",
       "171         320  horticulture    vegetables   pea vegetable         0   \n",
       "\n",
       "                                             QueryText  \\\n",
       "0                control of white fly in cotton crop ?   \n",
       "3                               varieties of berseem ?   \n",
       "4    information regarding improved varieties of wh...   \n",
       "9          information regarding sowing time of wheat?   \n",
       "11                             new varieties of wheat?   \n",
       "..                                                 ...   \n",
       "167               infromation regarding msp of cotton?   \n",
       "168                    early sowing varities of wheat?   \n",
       "169                            sowing time of raddish?   \n",
       "170  information regarding to the dose of fertilize...   \n",
       "171  #      information regarding to the improved v...   \n",
       "\n",
       "                                                KccAns DistrictName  \\\n",
       "0    spray to hosrathion @ 600 gm in 200 litres of ...     AMRITSAR   \n",
       "3                                    BL 42,BL 10,BL 1.     AMRITSAR   \n",
       "4    VARIETIES OF WHEAT CROP:- HD 2967,PBW 621,DBW ...     AMRITSAR   \n",
       "9    SOWING TIME OF WHEAT:-LAST WEEK OF OCT TO LAST...     AMRITSAR   \n",
       "11                                    HD-2967,PBW-621.     AMRITSAR   \n",
       "..                                                 ...          ...   \n",
       "167  for medium staple is 3600 and for long staple ...     AMRITSAR   \n",
       "168                              pbw621,pbw550,hd2967.     AMRITSAR   \n",
       "169                                     upto mid nov .     AMRITSAR   \n",
       "170  THE DOSE OF FETILIZER IN THE WHEAT-: UREA 110 ...     AMRITSAR   \n",
       "171  A:     IMPROVED VARIETIES OF PEA -:[EARLY MATU...     AMRITSAR   \n",
       "\n",
       "               CreatedOn               CreatedOnd  month  \n",
       "0    2011-10-01T17:38:00  2011-10-01 17:38:00.000   10.0  \n",
       "3    2011-10-02T20:55:00  2011-10-02 20:55:00.000   10.0  \n",
       "4    2011-10-03T08:49:00  2011-10-03 08:49:00.000   10.0  \n",
       "9    2011-10-05T14:04:00  2011-10-05 14:04:00.000   10.0  \n",
       "11   2011-10-06T08:05:00  2011-10-06 08:05:00.000   10.0  \n",
       "..                   ...                      ...    ...  \n",
       "167  2012-10-19T12:03:00  2012-10-19 12:03:00.000   10.0  \n",
       "168  2012-10-19T14:34:00  2012-10-19 14:34:00.000   10.0  \n",
       "169  2012-10-19T14:49:00  2012-10-19 14:49:00.000   10.0  \n",
       "170  2012-10-19T17:11:00  2012-10-19 17:11:00.000   10.0  \n",
       "171  2012-10-19T18:48:00  2012-10-19 18:48:00.000   10.0  \n",
       "\n",
       "[100 rows x 11 columns]"
      ]
     },
     "execution_count": 24,
     "metadata": {},
     "output_type": "execute_result"
    }
   ],
   "source": [
    "data.head(100)"
   ]
  },
  {
   "cell_type": "code",
   "execution_count": 25,
   "id": "3dcf7e97",
   "metadata": {},
   "outputs": [
    {
     "data": {
      "text/plain": [
       "array(['fiber crops', 'fodder crops', 'cereals', 'vegetables', 'oilseeds',\n",
       "       'fruits', 'others', 'sugar and starch crops', 'pulses',\n",
       "       'condiments and spices', 'millets', 'plantation crops', 'flowers',\n",
       "       '0', 'beekeeping', 'green manure', 'medicinal and aromatic plants',\n",
       "       '417', 'drug and narcotics'], dtype=object)"
      ]
     },
     "execution_count": 25,
     "metadata": {},
     "output_type": "execute_result"
    }
   ],
   "source": [
    "data['Category'].unique()"
   ]
  },
  {
   "cell_type": "code",
   "execution_count": 26,
   "id": "74fe8ce1",
   "metadata": {},
   "outputs": [],
   "source": [
    "s1=data[data[\"Category\"].apply(lambda x: x.isnumeric())]"
   ]
  },
  {
   "cell_type": "code",
   "execution_count": 27,
   "id": "8f0a5580",
   "metadata": {},
   "outputs": [],
   "source": [
    "l1=s1['Category'].index"
   ]
  },
  {
   "cell_type": "code",
   "execution_count": 28,
   "id": "7dfec99b",
   "metadata": {},
   "outputs": [],
   "source": [
    "data.drop(l1,inplace=True)"
   ]
  },
  {
   "cell_type": "code",
   "execution_count": 29,
   "id": "8d33b8be",
   "metadata": {},
   "outputs": [
    {
     "data": {
      "text/plain": [
       "array(['fiber crops', 'fodder crops', 'cereals', 'vegetables', 'oilseeds',\n",
       "       'fruits', 'others', 'sugar and starch crops', 'pulses',\n",
       "       'condiments and spices', 'millets', 'plantation crops', 'flowers',\n",
       "       'beekeeping', 'green manure', 'medicinal and aromatic plants',\n",
       "       'drug and narcotics'], dtype=object)"
      ]
     },
     "execution_count": 29,
     "metadata": {},
     "output_type": "execute_result"
    }
   ],
   "source": [
    "data['Category'].unique()"
   ]
  },
  {
   "cell_type": "code",
   "execution_count": 30,
   "id": "d94ffc39",
   "metadata": {
    "scrolled": false
   },
   "outputs": [
    {
     "data": {
      "text/html": [
       "<div>\n",
       "<style scoped>\n",
       "    .dataframe tbody tr th:only-of-type {\n",
       "        vertical-align: middle;\n",
       "    }\n",
       "\n",
       "    .dataframe tbody tr th {\n",
       "        vertical-align: top;\n",
       "    }\n",
       "\n",
       "    .dataframe thead th {\n",
       "        text-align: right;\n",
       "    }\n",
       "</style>\n",
       "<table border=\"1\" class=\"dataframe\">\n",
       "  <thead>\n",
       "    <tr style=\"text-align: right;\">\n",
       "      <th></th>\n",
       "      <th>Crop</th>\n",
       "    </tr>\n",
       "  </thead>\n",
       "  <tbody>\n",
       "    <tr>\n",
       "      <th>4</th>\n",
       "      <td>wheat</td>\n",
       "    </tr>\n",
       "    <tr>\n",
       "      <th>9</th>\n",
       "      <td>wheat</td>\n",
       "    </tr>\n",
       "    <tr>\n",
       "      <th>11</th>\n",
       "      <td>wheat</td>\n",
       "    </tr>\n",
       "    <tr>\n",
       "      <th>13</th>\n",
       "      <td>wheat</td>\n",
       "    </tr>\n",
       "    <tr>\n",
       "      <th>14</th>\n",
       "      <td>wheat</td>\n",
       "    </tr>\n",
       "    <tr>\n",
       "      <th>...</th>\n",
       "      <td>...</td>\n",
       "    </tr>\n",
       "    <tr>\n",
       "      <th>90546</th>\n",
       "      <td>paddy dhan</td>\n",
       "    </tr>\n",
       "    <tr>\n",
       "      <th>90549</th>\n",
       "      <td>paddy dhan</td>\n",
       "    </tr>\n",
       "    <tr>\n",
       "      <th>90550</th>\n",
       "      <td>paddy dhan</td>\n",
       "    </tr>\n",
       "    <tr>\n",
       "      <th>90552</th>\n",
       "      <td>paddy dhan</td>\n",
       "    </tr>\n",
       "    <tr>\n",
       "      <th>90554</th>\n",
       "      <td>paddy dhan</td>\n",
       "    </tr>\n",
       "  </tbody>\n",
       "</table>\n",
       "<p>26670 rows × 1 columns</p>\n",
       "</div>"
      ],
      "text/plain": [
       "             Crop\n",
       "4           wheat\n",
       "9           wheat\n",
       "11          wheat\n",
       "13          wheat\n",
       "14          wheat\n",
       "...           ...\n",
       "90546  paddy dhan\n",
       "90549  paddy dhan\n",
       "90550  paddy dhan\n",
       "90552  paddy dhan\n",
       "90554  paddy dhan\n",
       "\n",
       "[26670 rows x 1 columns]"
      ]
     },
     "execution_count": 30,
     "metadata": {},
     "output_type": "execute_result"
    }
   ],
   "source": [
    "b = data.groupby(['Category'])\n",
    "  \n",
    "# Print the first value in each group\n",
    "b = b[['Crop']]\n",
    "b.get_group('cereals')"
   ]
  },
  {
   "cell_type": "code",
   "execution_count": 31,
   "id": "6d395f87",
   "metadata": {},
   "outputs": [
    {
     "data": {
      "text/plain": [
       "Category    Crop                    \n",
       "beekeeping  beekeeping                  169\n",
       "cereals     barley jau                  204\n",
       "            fingermillet ragimandika    111\n",
       "            oats                        234\n",
       "            others                        1\n",
       "                                       ... \n",
       "vegetables  tomato                      601\n",
       "            tumba                         1\n",
       "            turnip saljam                92\n",
       "            watermelon                  114\n",
       "            yard long bean                4\n",
       "Length: 266, dtype: int64"
      ]
     },
     "execution_count": 31,
     "metadata": {},
     "output_type": "execute_result"
    }
   ],
   "source": [
    "b = data.groupby(['Category', 'Crop']).size()\n",
    "b"
   ]
  },
  {
   "cell_type": "code",
   "execution_count": 32,
   "id": "30c74e7f",
   "metadata": {},
   "outputs": [],
   "source": [
    "b.to_csv('Crops.csv')"
   ]
  },
  {
   "cell_type": "code",
   "execution_count": null,
   "id": "5314e181",
   "metadata": {},
   "outputs": [],
   "source": []
  },
  {
   "cell_type": "code",
   "execution_count": 38,
   "id": "71336778",
   "metadata": {},
   "outputs": [
    {
     "data": {
      "image/png": "[encoded data removed]",
      "text/plain": [
       "<Figure size 1296x576 with 1 Axes>"
      ]
     },
     "metadata": {},
     "output_type": "display_data"
    }
   ],
   "source": [
    "ax = data.groupby('Category').size().plot(kind='pie',title = 'Crops', figsize=(18, 8), autopct='%1.1f%%')\n",
    "ax.set_title('Crops', fontsize=18)\n",
    "plt.tight_layout()"
   ]
  },
  {
   "cell_type": "code",
   "execution_count": null,
   "id": "b9c36fd9",
   "metadata": {},
   "outputs": [],
   "source": []
  }
 ],
 "metadata": {
  "kernelspec": {
   "display_name": "Python 3 (ipykernel)",
   "language": "python",
   "name": "python3"
  },
  "language_info": {
   "codemirror_mode": {
    "name": "ipython",
    "version": 3
   },
   "file_extension": ".py",
   "mimetype": "text/x-python",
   "name": "python",
   "nbconvert_exporter": "python",
   "pygments_lexer": "ipython3",
   "version": "3.9.12"
  }
 },
 "nbformat": 4,
 "nbformat_minor": 5
}
